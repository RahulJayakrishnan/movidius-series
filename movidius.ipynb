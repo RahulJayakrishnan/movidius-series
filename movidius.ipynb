{
 "cells": [
  {
   "cell_type": "markdown",
   "metadata": {
    "slideshow": {
     "slide_type": "slide"
    }
   },
   "source": [
    "# Setting up our Development PC\n",
    "\n",
    "The NCSDK requires Ubuntu 16.04 so we will \n",
    "- use a virtual machine to run 16.04\n",
    "- build the NCSDK"
   ]
  },
  {
   "cell_type": "markdown",
   "metadata": {
    "slideshow": {
     "slide_type": "slide"
    }
   },
   "source": [
    "# Host PC requirements\n",
    "\n",
    "- At least 8GB or RAM\n",
    "- At least 20GB of free storage\n",
    "- USB3 (preferred)\n",
    "- At least a dual core CPU"
   ]
  },
  {
   "cell_type": "markdown",
   "metadata": {
    "slideshow": {
     "slide_type": "slide"
    }
   },
   "source": [
    "# Overview\n",
    "\n",
    "- Step 1 - Download the Ubuntu 16.04 iso file\n",
    "- Step 2 - Download Virtualbox and the extra package\n",
    "- Step 3 - Configurate and install Ubuntu on the VM\n",
    "- Step 4 - Install NCSDK on the VM and build the examples"
   ]
  },
  {
   "cell_type": "markdown",
   "metadata": {
    "slideshow": {
     "slide_type": "slide"
    }
   },
   "source": [
    "# Step 1 - Download Ubuntu 16.04 iso\n",
    "\n",
    "We have to use ubuntu 16.04 (already tried with 18.04 and it's a NO GO)\n",
    "\n",
    "- download the Ubuntu 16.04 Desktop (64bit) iso file\n",
    "- http://releases.ubuntu.com/16.04/"
   ]
  },
  {
   "cell_type": "markdown",
   "metadata": {
    "slideshow": {
     "slide_type": "slide"
    }
   },
   "source": [
    "# Step 2 - Download Virtualbox\n",
    "\n",
    "```bash\n",
    "sudo apt update\n",
    "sudo apt install virtualbox\n",
    "sudo apt install virtualbox-ext-pack \n",
    "```\n",
    "\n",
    "we also need to add ourselves as a user to the ```vboxusers``` group. use the following command\n",
    "\n",
    "```\n",
    "sudo usermod -a -G vboxusers $USER\n",
    "```\n",
    "\n",
    "next, logout or restart (always needed when adding users to a group)."
   ]
  },
  {
   "cell_type": "markdown",
   "metadata": {
    "slideshow": {
     "slide_type": "slide"
    }
   },
   "source": [
    "# Step 3 - Configure our VM\n",
    "\n",
    "- start virtualbox\n",
    "- click the \"New\" button in top left\n",
    "- give it a name, select linux, and ubuntu\n",
    "- Select the amount of RAM and Hard Drive to allocate\n",
    "- Click settings and increase CPU cores \n",
    "- Click Storage, Controller: IDE, empty, and select the iso file"
   ]
  },
  {
   "cell_type": "markdown",
   "metadata": {
    "slideshow": {
     "slide_type": "slide"
    }
   },
   "source": [
    "# Step 4 - Install NCSDK\n",
    "\n",
    "- Install Git\n",
    "\n",
    "```bash\n",
    "\n",
    "sudo apt install git\n",
    "```\n",
    "\n",
    "clone the NCSDK repo\n",
    "\n",
    "```bash\n",
    "git clone -b ncsdk2 http://github.com/Movidius/ncsdk\n",
    "cd ncsdk\n",
    "make install\n",
    "```"
   ]
  },
  {
   "cell_type": "code",
   "execution_count": null,
   "metadata": {
    "slideshow": {
     "slide_type": "slide"
    }
   },
   "outputs": [],
   "source": []
  }
 ],
 "metadata": {
  "celltoolbar": "Slideshow",
  "kernelspec": {
   "display_name": "Python 3",
   "language": "python",
   "name": "python3"
  },
  "language_info": {
   "codemirror_mode": {
    "name": "ipython",
    "version": 3
   },
   "file_extension": ".py",
   "mimetype": "text/x-python",
   "name": "python",
   "nbconvert_exporter": "python",
   "pygments_lexer": "ipython3",
   "version": "3.6.4"
  }
 },
 "nbformat": 4,
 "nbformat_minor": 2
}
